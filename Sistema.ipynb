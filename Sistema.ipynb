{
 "cells": [
  {
   "cell_type": "code",
   "execution_count": 8,
   "metadata": {},
   "outputs": [
    {
     "name": "stdout",
     "output_type": "stream",
     "text": [
      "Completado\n"
     ]
    }
   ],
   "source": [
    "from math import *\n",
    "import pandas as pd\n",
    "import numpy as np\n",
    "from time import time\n",
    "\n",
    "ratingDf=pd.read_csv(\"tempRating.csv\")\n",
    "moviesDf=pd.read_csv(\"tempMovie.csv\")\n",
    "users=dict()\n",
    "\n",
    "arr=np.array(ratingDf.iloc[:len(ratingDf)-1,])\n",
    "arrMov=np.array(moviesDf.iloc[:len(ratingDf)-1,])\n",
    "\n",
    "#diccionario de rating\n",
    "for i in arr:\n",
    "    userId, movieId = int(float(i[0])), int(float(i[1]))\n",
    "    rating = float(i[2])\n",
    "    if userId not in users:\n",
    "        users[userId] = {movieId: rating}\n",
    "    else:\n",
    "        users[userId][movieId] = rating\n",
    "\n",
    "movies=dict()\n",
    "#diccionario de peliculas\n",
    "for i in arrMov:\n",
    "    movieId = int(i[0])\n",
    "    movieTitle = i[1]\n",
    "    movies[movieId] = movieTitle\n",
    "\n",
    "print(\"Completado\")\n"
   ]
  },
  {
   "cell_type": "code",
   "execution_count": 9,
   "metadata": {},
   "outputs": [],
   "source": [
    "def cosine(dicc1, dicc2):\n",
    "    xy=0\n",
    "    xx=0\n",
    "    yy=0\n",
    "    ing=True\n",
    "\n",
    "    for i in dicc1:\n",
    "        if i in dicc2:\n",
    "            xy=xy+dicc1[i]*dicc2[i]\n",
    "            xx=xx+dicc1[i]*dicc1[i]\n",
    "            yy=yy+dicc2[i]*dicc2[i]\n",
    "            ing=False\n",
    "    \n",
    "    if xx==0 or yy==0 or ing:\n",
    "        ang=-100\n",
    "    else:\n",
    "        ang=xy/(sqrt(xx)*sqrt(yy))\n",
    "    return ang"
   ]
  },
  {
   "cell_type": "code",
   "execution_count": 10,
   "metadata": {},
   "outputs": [],
   "source": [
    "def pearson(dicc1,dicc2):\n",
    "    xy=0\n",
    "    x=0\n",
    "    y=0\n",
    "    xx=0\n",
    "    yy=0\n",
    "    n=0\n",
    "    \n",
    "    for i in dicc1:\n",
    "        if i in dicc2:\n",
    "            n=n+1\n",
    "            xy=xy+dicc1[i]*dicc2[i]\n",
    "            x=x+dicc1[i]\n",
    "            y=y+dicc2[i]\n",
    "            xx=xx+dicc1[i]*dicc1[i]\n",
    "            yy=yy+dicc2[i]*dicc2[i]\n",
    "            \n",
    "    if n==0:\n",
    "        r=-100\n",
    "    else:\n",
    "        if sqrt(xx-(x*x/n))==0 or sqrt(yy-(y*y/n))==0:\n",
    "            r=-1\n",
    "        else:\n",
    "            r=(xy-((x*y)/n))/(sqrt(xx-(x*x/n))*sqrt(yy-(y*y/n)))\n",
    "    return r"
   ]
  },
  {
   "cell_type": "code",
   "execution_count": 11,
   "metadata": {},
   "outputs": [],
   "source": [
    "def manhathan(dicc1, dicc2):\n",
    "    distance = 0.0\n",
    "    ing=True\n",
    "    for i in dicc1:\n",
    "        if i in dicc2:\n",
    "            distance = distance + abs(dicc1[i] - dicc2[i])\n",
    "            ing=False\n",
    "    if ing:\n",
    "        return -100\n",
    "    else:\n",
    "        return distance"
   ]
  },
  {
   "cell_type": "code",
   "execution_count": 12,
   "metadata": {},
   "outputs": [],
   "source": [
    "def euclidean(dicc1, dicc2):\n",
    "    distance = 0.0\n",
    "    ing=True\n",
    "    for i in dicc1:\n",
    "        if i in dicc2:\n",
    "            distance += (dicc1[i] - dicc2[i])**2 \n",
    "            ing=False\n",
    "    if ing:\n",
    "        return -100\n",
    "    else:\n",
    "        return sqrt(distance)"
   ]
  },
  {
   "cell_type": "code",
   "execution_count": 13,
   "metadata": {},
   "outputs": [],
   "source": [
    "#se encarga de buscar los vecinos de manera ordenada, para seleccionar k vecinos\n",
    "def get_neighbors(users,id_test,distancia):\n",
    "    distances = list()\n",
    "    for i in users:\n",
    "        #evitar comparar con el mismo\n",
    "        if (i!=id_test):\n",
    "            dist = distancia(users[i],users[id_test])\n",
    "            #si la distancia es valida\n",
    "            if dist!=-100:\n",
    "                distances.append((i,dist))\n",
    "    distances.sort(key=lambda tup: tup[1])\n",
    "    return distances"
   ]
  },
  {
   "cell_type": "code",
   "execution_count": 14,
   "metadata": {},
   "outputs": [],
   "source": [
    "def knn(result,users,persona,vecinos,distancia,umbral):\n",
    "    #halla los vecinos\n",
    "    neighbors = get_neighbors(users,persona,distancia)\n",
    "    contador=0\n",
    "    \n",
    "    #si es metrica de distancia a menor valor mejor\n",
    "    if distancia==euclidean or distancia==manhathan:\n",
    "        for i in range( len(users.keys()) ):\n",
    "            #if neighbors[i][1]>umbral:\n",
    "            print(\"id: \"+str(neighbors[i][0]+1)+\" distancia: \"+str(neighbors[i][1]))\n",
    "            result[neighbors[i][0]+1] =neighbors[i][1]\n",
    "            contador=contador+1\n",
    "            if contador==vecinos:\n",
    "                break\n",
    "                \n",
    "    #si es correlacion si el valor es mayor cercano a 1 mejor\n",
    "    else:\n",
    "        for i in range( len(users.keys()) ):\n",
    "            #if neighbors[i][1]>umbral:\n",
    "            print(\"id: \"+str(neighbors[len(neighbors)-i-1][0]+1)+\" distancia: \"+str(neighbors[len(neighbors)-i-1][1]))\n",
    "            result[neighbors[len(neighbors)-i-1][0]+1] = neighbors[len(neighbors)-i-1][1]\n",
    "            contador=contador+1\n",
    "            if contador==vecinos:\n",
    "                break"
   ]
  },
  {
   "cell_type": "code",
   "execution_count": 15,
   "metadata": {},
   "outputs": [
    {
     "name": "stdout",
     "output_type": "stream",
     "text": [
      "id: 36 distancia: 21.213203435596427\n",
      "id: 40 distancia: 24.49489742783178\n",
      "id: 38 distancia: 34.64101615137755\n",
      "id: 37 distancia: 36.40054944640259\n",
      "id: 24 distancia: 41.83300132670378\n"
     ]
    }
   ],
   "source": [
    "#Nro de vecinos más cercanos, Función de Distancia (Manhattan, Euclides, Pearson, Coseno)\n",
    "#Id. ó nombre de usuario , Umbral\n",
    "#euclidean  manhathan  pearson  cosine\n",
    "persona = 33\n",
    "vecinos=5\n",
    "umbral=0\n",
    "\n",
    "result=dict()\n",
    "knn(result,users,persona,vecinos,euclidean,umbral)"
   ]
  },
  {
   "cell_type": "code",
   "execution_count": 17,
   "metadata": {},
   "outputs": [
    {
     "name": "stdout",
     "output_type": "stream",
     "text": [
      "id: 40 distancia: 40.0\n",
      "id: 36 distancia: 50.0\n",
      "id: 37 distancia: 55.0\n",
      "id: 38 distancia: 60.0\n",
      "id: 39 distancia: 80.0\n"
     ]
    }
   ],
   "source": [
    "#Nro de vecinos más cercanos, Función de Distancia (Manhattan, Euclides, Pearson, Coseno)\n",
    "#Id. ó nombre de usuario , Umbral\n",
    "#euclidean  manhathan  pearson  cosine\n",
    "persona = 33\n",
    "vecinos=5\n",
    "umbral=0\n",
    "#580\n",
    "\n",
    "result=dict()\n",
    "knn(result,users,persona,vecinos,manhathan,umbral)"
   ]
  },
  {
   "cell_type": "code",
   "execution_count": 11,
   "metadata": {},
   "outputs": [
    {
     "name": "stdout",
     "output_type": "stream",
     "text": [
      "id: 13 distancia: 1.000000000000002\n",
      "id: 93 distancia: 1.0\n",
      "id: 176 distancia: 0.9999999999999999\n",
      "id: 208 distancia: 0.9819805060619665\n",
      "id: 88 distancia: 0.967805338634416\n",
      "id: 148 distancia: 0.9449111825230488\n",
      "id: 506 distancia: 0.9379366108168804\n",
      "id: 551 distancia: 0.9045340337332909\n",
      "id: 548 distancia: 0.8728715609439696\n",
      "id: 195 distancia: 0.8703882797784892\n"
     ]
    }
   ],
   "source": [
    "#Nro de vecinos más cercanos, Función de Distancia (Manhattan, Euclides, Pearson, Coseno)\n",
    "#Id. ó nombre de usuario , Umbral\n",
    "#euclidean  manhathan  pearson  cosine\n",
    "persona = 580\n",
    "vecinos=10\n",
    "umbral=0\n",
    "#580\n",
    "\n",
    "result=dict()\n",
    "knn(result,users,persona,vecinos,pearson,umbral)"
   ]
  },
  {
   "cell_type": "code",
   "execution_count": 12,
   "metadata": {},
   "outputs": [
    {
     "name": "stdout",
     "output_type": "stream",
     "text": [
      "id: 13 distancia: 0.9996081120648961\n",
      "id: 208 distancia: 0.9980723012298871\n",
      "id: 506 distancia: 0.996525328643134\n",
      "id: 455 distancia: 0.9951152672684376\n",
      "id: 107 distancia: 0.994998372086408\n",
      "id: 359 distancia: 0.9946830503370405\n",
      "id: 583 distancia: 0.9944092912769698\n",
      "id: 401 distancia: 0.9941436380819285\n",
      "id: 548 distancia: 0.9941090093171839\n",
      "id: 294 distancia: 0.9940516516415969\n"
     ]
    }
   ],
   "source": [
    "#Nro de vecinos más cercanos, Función de Distancia (Manhattan, Euclides, Pearson, Coseno)\n",
    "#Id. ó nombre de usuario , Umbral\n",
    "#euclidean  manhathan  pearson  cosine\n",
    "persona = 580\n",
    "vecinos=10\n",
    "umbral=0\n",
    "#580\n",
    "\n",
    "result=dict()\n",
    "knn(result,users,persona,vecinos,cosine,umbral)"
   ]
  },
  {
   "cell_type": "code",
   "execution_count": 18,
   "metadata": {},
   "outputs": [],
   "source": [
    "def knn(result,users,persona,vecinos,distancia,umbral):\n",
    "    neighbors = get_neighbors(users,persona,distancia)\n",
    "    contador=0\n",
    "    \n",
    "    #euclidean  manhathan  pearson  cosine\n",
    "    if distancia==euclidean or distancia==manhathan:\n",
    "        for i in range( len(users.keys()) ):\n",
    "            #if neighbors[i][1]>umbral:\n",
    "            result[neighbors[i][0]+1] =neighbors[i][1]\n",
    "            contador=contador+1\n",
    "            if contador==vecinos:\n",
    "                break\n",
    "    else:\n",
    "        for i in range( len(users.keys()) ):\n",
    "            #if neighbors[i][1]>umbral:\n",
    "            result[neighbors[len(neighbors)-i-1][0]+1] = neighbors[len(neighbors)-i-1][1]\n",
    "            contador=contador+1\n",
    "            if contador==vecinos:\n",
    "                break\n",
    "\n",
    "\n",
    "def recomendacion(users,persona,vecinos,distancia,umbral,nro_peliculas):\n",
    "    result=dict()\n",
    "    knn(result,users,persona,vecinos,distancia,umbral)\n",
    "    recom = list()\n",
    "    #halla los k vecinos mas cercanos\n",
    "    for peli in movies:\n",
    "        #calcula los factores de influecnia de los k vecinos sobre la pelicula peli de movies\n",
    "        calificacion=0\n",
    "        total=0\n",
    "        cantidad=0\n",
    "        #sumatoria de distancia\n",
    "        for i in result:\n",
    "            if peli in users[i]:\n",
    "                total=total+result[i]\n",
    "                cantidad=cantidad+1\n",
    "        #sumatoria de peso\n",
    "        for i in result:\n",
    "            if peli in users[i]:\n",
    "                calificacion=calificacion+result[i]*users[i][peli]\n",
    "                \n",
    "        #puede no haber coincidencia ninguna, en ese caso total=0\n",
    "        if total !=0:\n",
    "            #si la recomendacion es de 2 o menos personas no tiene mucha validez\n",
    "            if cantidad>2:\n",
    "                recom.append((peli,calificacion/total))\n",
    "                \n",
    "    #ordenamos los valores recomendados para saber cual le gusta mas\n",
    "    recom.sort(key=lambda tup: tup[1])\n",
    "    i=0\n",
    "    j=0\n",
    "    while(i<len(recom) and j<nro_peliculas ):\n",
    "        if recom[len(recom)-i-1][1]>umbral: #and recom[len(recom)-i-1][1]<4.99999\n",
    "            print(movies[recom[len(recom)-i-1][0]]+\" con puntaje de: \"+str(recom[len(recom)-i-1][1]))\n",
    "            j=j+1\n",
    "        i=i+1"
   ]
  },
  {
   "cell_type": "code",
   "execution_count": 22,
   "metadata": {},
   "outputs": [
    {
     "ename": "KeyError",
     "evalue": "40",
     "output_type": "error",
     "traceback": [
      "\u001b[1;31m---------------------------------------------------------------------------\u001b[0m",
      "\u001b[1;31mKeyError\u001b[0m                                  Traceback (most recent call last)",
      "\u001b[1;32md:\\UNSA\\REPOSITORIO\\Tópicos en Ciencia de Datos\\Laboratorios\\Sistema_de_recomendacion\\Laboratorio 06\\Sistema.ipynb Celda 13\u001b[0m in \u001b[0;36m<cell line: 6>\u001b[1;34m()\u001b[0m\n\u001b[0;32m      <a href='vscode-notebook-cell:/d%3A/UNSA/REPOSITORIO/T%C3%B3picos%20en%20Ciencia%20de%20Datos/Laboratorios/Sistema_de_recomendacion/Laboratorio%2006/Sistema.ipynb#X15sZmlsZQ%3D%3D?line=3'>4</a>\u001b[0m umbral\u001b[39m=\u001b[39m\u001b[39m1\u001b[39m\n\u001b[0;32m      <a href='vscode-notebook-cell:/d%3A/UNSA/REPOSITORIO/T%C3%B3picos%20en%20Ciencia%20de%20Datos/Laboratorios/Sistema_de_recomendacion/Laboratorio%2006/Sistema.ipynb#X15sZmlsZQ%3D%3D?line=4'>5</a>\u001b[0m nro_peliculas\u001b[39m=\u001b[39m\u001b[39m1\u001b[39m\n\u001b[1;32m----> <a href='vscode-notebook-cell:/d%3A/UNSA/REPOSITORIO/T%C3%B3picos%20en%20Ciencia%20de%20Datos/Laboratorios/Sistema_de_recomendacion/Laboratorio%2006/Sistema.ipynb#X15sZmlsZQ%3D%3D?line=5'>6</a>\u001b[0m recomendacion(users,persona,vecinos,euclidean,umbral,nro_peliculas)\n",
      "\u001b[1;32md:\\UNSA\\REPOSITORIO\\Tópicos en Ciencia de Datos\\Laboratorios\\Sistema_de_recomendacion\\Laboratorio 06\\Sistema.ipynb Celda 13\u001b[0m in \u001b[0;36mrecomendacion\u001b[1;34m(users, persona, vecinos, distancia, umbral, nro_peliculas)\u001b[0m\n\u001b[0;32m     <a href='vscode-notebook-cell:/d%3A/UNSA/REPOSITORIO/T%C3%B3picos%20en%20Ciencia%20de%20Datos/Laboratorios/Sistema_de_recomendacion/Laboratorio%2006/Sistema.ipynb#X15sZmlsZQ%3D%3D?line=31'>32</a>\u001b[0m \u001b[39m#sumatoria de distancia\u001b[39;00m\n\u001b[0;32m     <a href='vscode-notebook-cell:/d%3A/UNSA/REPOSITORIO/T%C3%B3picos%20en%20Ciencia%20de%20Datos/Laboratorios/Sistema_de_recomendacion/Laboratorio%2006/Sistema.ipynb#X15sZmlsZQ%3D%3D?line=32'>33</a>\u001b[0m \u001b[39mfor\u001b[39;00m i \u001b[39min\u001b[39;00m result:\n\u001b[1;32m---> <a href='vscode-notebook-cell:/d%3A/UNSA/REPOSITORIO/T%C3%B3picos%20en%20Ciencia%20de%20Datos/Laboratorios/Sistema_de_recomendacion/Laboratorio%2006/Sistema.ipynb#X15sZmlsZQ%3D%3D?line=33'>34</a>\u001b[0m     \u001b[39mif\u001b[39;00m peli \u001b[39min\u001b[39;00m users[i]:\n\u001b[0;32m     <a href='vscode-notebook-cell:/d%3A/UNSA/REPOSITORIO/T%C3%B3picos%20en%20Ciencia%20de%20Datos/Laboratorios/Sistema_de_recomendacion/Laboratorio%2006/Sistema.ipynb#X15sZmlsZQ%3D%3D?line=34'>35</a>\u001b[0m         total\u001b[39m=\u001b[39mtotal\u001b[39m+\u001b[39mresult[i]\n\u001b[0;32m     <a href='vscode-notebook-cell:/d%3A/UNSA/REPOSITORIO/T%C3%B3picos%20en%20Ciencia%20de%20Datos/Laboratorios/Sistema_de_recomendacion/Laboratorio%2006/Sistema.ipynb#X15sZmlsZQ%3D%3D?line=35'>36</a>\u001b[0m         cantidad\u001b[39m=\u001b[39mcantidad\u001b[39m+\u001b[39m\u001b[39m1\u001b[39m\n",
      "\u001b[1;31mKeyError\u001b[0m: 40"
     ]
    }
   ],
   "source": [
    "#euclidean  manhathan  pearson  cosine\n",
    "persona = 33\n",
    "vecinos=5\n",
    "umbral=0\n",
    "nro_peliculas=1\n",
    "recomendacion(users,persona,vecinos,euclidean,umbral,nro_peliculas)"
   ]
  },
  {
   "cell_type": "code",
   "execution_count": 15,
   "metadata": {},
   "outputs": [
    {
     "name": "stdout",
     "output_type": "stream",
     "text": [
      "Saving Private Ryan (1998) con puntaje de: 4.571428571428571\n",
      "Rogue One: A Star Wars Story (2016) con puntaje de: 4.5\n",
      "Good Will Hunting (1997) con puntaje de: 4.5\n",
      "Die Hard (1988) con puntaje de: 4.5\n",
      "Schindler's List (1993) con puntaje de: 4.5\n",
      "E.T. the Extra-Terrestrial (1982) con puntaje de: 4.4\n",
      "Jurassic Park (1993) con puntaje de: 4.4\n",
      "Silence of the Lambs, The (1991) con puntaje de: 4.388888888888889\n",
      "Star Wars: Episode IV - A New Hope (1977) con puntaje de: 4.375\n",
      "Titanic (1997) con puntaje de: 4.3\n",
      "Shrek (2001) con puntaje de: 4.2\n",
      "Pulp Fiction (1994) con puntaje de: 4.2\n",
      "John Wick (2014) con puntaje de: 4.166666666666667\n",
      "Skyfall (2012) con puntaje de: 4.166666666666667\n",
      "Shawshank Redemption, The (1994) con puntaje de: 4.166666666666667\n"
     ]
    }
   ],
   "source": [
    "#euclidean  manhathan  pearson  cosine\n",
    "persona = 580\n",
    "vecinos=7\n",
    "umbral=0\n",
    "nro_peliculas=15\n",
    "recomendacion(users,persona,vecinos,manhathan,umbral,nro_peliculas)"
   ]
  },
  {
   "cell_type": "code",
   "execution_count": 16,
   "metadata": {},
   "outputs": [
    {
     "name": "stdout",
     "output_type": "stream",
     "text": [
      "Braveheart (1995) con puntaje de: 4.670695196006234\n",
      "Shawshank Redemption, The (1994) con puntaje de: 4.663050676881614\n",
      "True Lies (1994) con puntaje de: 4.012085588018702\n",
      "Rock, The (1996) con puntaje de: 4.006042794009351\n",
      "GoldenEye (1995) con puntaje de: 3.676737990015585\n"
     ]
    }
   ],
   "source": [
    "#euclidean  manhathan  pearson  cosine\n",
    "persona = 580\n",
    "vecinos=7\n",
    "umbral=0\n",
    "nro_peliculas=15\n",
    "recomendacion(users,persona,vecinos,pearson,umbral,nro_peliculas)"
   ]
  },
  {
   "cell_type": "code",
   "execution_count": 17,
   "metadata": {},
   "outputs": [
    {
     "name": "stdout",
     "output_type": "stream",
     "text": [
      "Dances with Wolves (1990) con puntaje de: 4.333355493029952\n",
      "Braveheart (1995) con puntaje de: 4.332977395607352\n",
      "Matrix, The (1999) con puntaje de: 4.168982091893179\n",
      "Titanic (1997) con puntaje de: 4.166407283994059\n",
      "Silence of the Lambs, The (1991) con puntaje de: 4.000282438634295\n",
      "Apollo 13 (1995) con puntaje de: 3.8333359112637244\n",
      "Santa Clause, The (1994) con puntaje de: 3.666574762400041\n",
      "Pulp Fiction (1994) con puntaje de: 3.666565641748685\n",
      "Cruel Intentions (1999) con puntaje de: 3.498453733804508\n",
      "Terminator 2: Judgment Day (1991) con puntaje de: 3.334041338650374\n",
      "True Lies (1994) con puntaje de: 2.998971305934571\n"
     ]
    }
   ],
   "source": [
    "#euclidean  manhathan  pearson  cosine\n",
    "persona = 580\n",
    "vecinos=7\n",
    "umbral=0\n",
    "nro_peliculas=15\n",
    "recomendacion(users,persona,vecinos,cosine,umbral,nro_peliculas)"
   ]
  },
  {
   "cell_type": "code",
   "execution_count": 24,
   "metadata": {},
   "outputs": [
    {
     "name": "stdout",
     "output_type": "stream",
     "text": [
      "Completado\n"
     ]
    }
   ],
   "source": [
    "personaDf=pd.read_csv(\"nuevo.csv\")\n",
    "personas=dict()\n",
    "personas.clear()\n",
    "per=np.array(personaDf.iloc[:,])\n",
    "\n",
    "#diccionario de busqueda para recomendaciones\n",
    "for i in per:\n",
    "    userId, movieId = int(i[0]), int(i[1])\n",
    "    rating = float(i[2])\n",
    "    \n",
    "    if userId not in personas:\n",
    "        personas[userId] = {movieId: rating}\n",
    "    else:\n",
    "        personas[userId][movieId] = rating\n",
    "\n",
    "print(\"Completado\")"
   ]
  },
  {
   "cell_type": "code",
   "execution_count": 31,
   "metadata": {},
   "outputs": [],
   "source": [
    "def get_neighbors(users,id_test,distancia,buscar):\n",
    "    distances = list()\n",
    "    for i in users:\n",
    "        if (i!=id_test):\n",
    "            dist = distancia(users[i],buscar[id_test])\n",
    "            if dist!=-100:\n",
    "                distances.append((i,dist))\n",
    "    distances.sort(key=lambda tup: tup[1])\n",
    "    return distances\n",
    "\n",
    "def knn(result,users,persona,vecinos,distancia,umbral,buscar):\n",
    "    start_time2 = time()\n",
    "    neighbors = get_neighbors(users,persona,distancia,buscar)\n",
    "    print(\"Tiempo Get Vecinos\")\n",
    "    print(time()-start_time2)\n",
    "    contador=0\n",
    "    \n",
    "    #euclidean  manhathan  pearson  cosine\n",
    "    if distancia==euclidean or distancia==manhathan:\n",
    "        for i in range( len(users.keys()) ):\n",
    "            #if neighbors[i][1]>umbral:\n",
    "            result[neighbors[i][0]+1] =neighbors[i][1]\n",
    "            contador=contador+1\n",
    "            if contador==vecinos:\n",
    "                break\n",
    "    else:\n",
    "        for i in range( len(users.keys()) ):\n",
    "            #if neighbors[i][1]>umbral:\n",
    "            result[neighbors[len(neighbors)-i-1][0]+1] = neighbors[len(neighbors)-i-1][1]\n",
    "            contador=contador+1\n",
    "            if contador==vecinos:\n",
    "                break\n",
    "\n",
    "def recomendacion(users,persona,vecinos,distancia,umbral,nro_peliculas,buscar):\n",
    "    result=dict()\n",
    "    \n",
    "    start_time1 = time()\n",
    "    knn(result,users,persona,vecinos,distancia,umbral,buscar)\n",
    "    print(\"Timepo Knn\")\n",
    "    print(time()-start_time1)\n",
    "    \n",
    "    recom = list()\n",
    "    \n",
    "    for peli in movies:        \n",
    "        calificacion=0\n",
    "        total=0\n",
    "        cantidad=0\n",
    "        #sumatoria de distancia\n",
    "        for i in result:\n",
    "            if peli in users[i]:\n",
    "                total=total+result[i]\n",
    "                cantidad=cantidad+1\n",
    "        #sumatoria de peso\n",
    "        for i in result:\n",
    "            if peli in users[i]:\n",
    "                calificacion=calificacion+result[i]*users[i][peli]\n",
    "        \n",
    "        if total !=0:\n",
    "            if cantidad>2:\n",
    "                recom.append((peli,calificacion/total))\n",
    "    recom.sort(key=lambda tup: tup[1])\n",
    "    i=0\n",
    "    j=0\n",
    "    while(i<len(recom) and j<nro_peliculas ):\n",
    "        if recom[len(recom)-i-1][1]>umbral: #and recom[len(recom)-i-1][1]<4.99999\n",
    "            print(movies[recom[len(recom)-i-1][0]]+\" con puntaje de: \"+str(recom[len(recom)-i-1][1]))\n",
    "            j=j+1\n",
    "        i=i+1"
   ]
  },
  {
   "cell_type": "code",
   "execution_count": 32,
   "metadata": {},
   "outputs": [
    {
     "name": "stdout",
     "output_type": "stream",
     "text": [
      "La recomendacion para 1000 es de:\n",
      "Tiempo Get Vecinos\n",
      "0.008030176162719727\n",
      "Timepo Knn\n",
      "0.008030176162719727\n",
      "Memento (2000) con puntaje de: 4.75\n",
      "Beautiful Mind, A (2001) con puntaje de: 4.666666666666667\n",
      "Snatch (2000) con puntaje de: 4.666666666666667\n",
      "Shawshank Redemption, The (1994) con puntaje de: 4.625\n",
      "Eternal Sunshine of the Spotless Mind (2004) con puntaje de: 4.5\n",
      "Kill Bill: Vol. 1 (2003) con puntaje de: 4.5\n",
      "Shrek (2001) con puntaje de: 4.5\n",
      "Finding Nemo (2003) con puntaje de: 4.4\n",
      "Casino Royale (2006) con puntaje de: 4.333333333333333\n",
      "Bourne Identity, The (2002) con puntaje de: 4.333333333333333\n",
      " \n",
      "La recomendacion para 1451 es de:\n",
      "Tiempo Get Vecinos\n",
      "0.005027294158935547\n",
      "Timepo Knn\n",
      "0.005027294158935547\n",
      "Seven (a.k.a. Se7en) (1995) con puntaje de: 4.625\n",
      "Fight Club (1999) con puntaje de: 4.5\n",
      "Die Hard: With a Vengeance (1995) con puntaje de: 4.5\n",
      "Star Wars: Episode IV - A New Hope (1977) con puntaje de: 4.375\n",
      "Rogue One: A Star Wars Story (2016) con puntaje de: 4.333333333333333\n",
      "WALL·E (2008) con puntaje de: 4.333333333333333\n",
      "Good Will Hunting (1997) con puntaje de: 4.333333333333333\n",
      "Terminator 2: Judgment Day (1991) con puntaje de: 4.3\n",
      "Matrix, The (1999) con puntaje de: 4.25\n",
      "Jurassic Park (1993) con puntaje de: 4.25\n",
      " \n",
      "La recomendacion para 1536 es de:\n",
      "Tiempo Get Vecinos\n",
      "0.003976583480834961\n",
      "Timepo Knn\n",
      "0.003976583480834961\n",
      "Usual Suspects, The (1995) con puntaje de: 4.8\n",
      "Princess Bride, The (1987) con puntaje de: 4.666666666666667\n",
      "Amelie (Fabuleux destin d'Amélie Poulain, Le) (2001) con puntaje de: 4.5\n",
      "Shawshank Redemption, The (1994) con puntaje de: 4.416666666666667\n",
      "King's Speech, The (2010) con puntaje de: 4.333333333333333\n",
      "Dark Knight, The (2008) con puntaje de: 4.333333333333333\n",
      "Monsters, Inc. (2001) con puntaje de: 4.333333333333333\n",
      "American Beauty (1999) con puntaje de: 4.333333333333333\n",
      "Silence of the Lambs, The (1991) con puntaje de: 4.3\n",
      "Inception (2010) con puntaje de: 4.25\n",
      " \n"
     ]
    }
   ],
   "source": [
    "#euclidean  manhathan  pearson  cosine\n",
    "vecinos=10\n",
    "umbral=0\n",
    "nro_peliculas=10\n",
    "\n",
    "#realiza la recomendacion para todos los ids en el diccionario de busqueda\n",
    "for i in personas:\n",
    "    print(\"La recomendacion para \"+str(i)+\" es de:\")\n",
    "    recomendacion(users,i,vecinos,cosine,umbral,nro_peliculas,personas)\n",
    "    print(\" \")"
   ]
  }
 ],
 "metadata": {
  "kernelspec": {
   "display_name": "Python 3.9.12 64-bit",
   "language": "python",
   "name": "python3"
  },
  "language_info": {
   "codemirror_mode": {
    "name": "ipython",
    "version": 3
   },
   "file_extension": ".py",
   "mimetype": "text/x-python",
   "name": "python",
   "nbconvert_exporter": "python",
   "pygments_lexer": "ipython3",
   "version": "3.9.12"
  },
  "orig_nbformat": 4,
  "vscode": {
   "interpreter": {
    "hash": "f32faa2a7000f53c7b5a187e16e037cdeaf41b50810638925a8b9faebd9110d0"
   }
  }
 },
 "nbformat": 4,
 "nbformat_minor": 2
}
